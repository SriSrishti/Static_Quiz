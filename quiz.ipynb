{
 "cells": [
  {
   "cell_type": "code",
   "execution_count": 1,
   "id": "72c9191e-b590-40d1-8732-8bca1ac09734",
   "metadata": {},
   "outputs": [],
   "source": [
    "# Static questions quizz"
   ]
  },
  {
   "cell_type": "code",
   "execution_count": null,
   "id": "ef286759-57a6-4eb2-9f9c-9fbeaca12a8e",
   "metadata": {},
   "outputs": [],
   "source": [
    "import tkinter as tk\n",
    "from tkinter import messagebox"
   ]
  },
  {
   "cell_type": "code",
   "execution_count": 3,
   "id": "7e49101b-1e87-447f-b815-611eb020d93e",
   "metadata": {},
   "outputs": [],
   "source": [
    "import tkinter as tk\n",
    "from tkinter import messagebox\n",
    "\n",
    "# List of questions and answers\n",
    "questions = [\n",
    "    {\n",
    "        \"question\": \"What does CPU stand for?\",\n",
    "        \"options\": [\"Central Processing Unit\", \"Central Process Unit\", \"Computer Personal Unit\", \"Central Processor Unit\"],\n",
    "        \"answer\": \"Central Processing Unit\"\n",
    "    },\n",
    "    {\n",
    "        \"question\": \"What is the brain of the computer?\",\n",
    "        \"options\": [\"Monitor\", \"Keyboard\", \"CPU\", \"Mouse\"],\n",
    "        \"answer\": \"CPU\"\n",
    "    },\n",
    "    {\n",
    "        \"question\": \"Which language is used for web development?\",\n",
    "        \"options\": [\"Python\", \"Java\", \"HTML\", \"C++\"],\n",
    "        \"answer\": \"HTML\"\n",
    "    },\n",
    "    {\n",
    "        \"question\": \"What does RAM stand for?\",\n",
    "        \"options\": [\"Random Access Memory\", \"Read Access Memory\", \"Randomly Accessed Memory\", \"Read and Write Memory\"],\n",
    "        \"answer\": \"Random Access Memory\"\n",
    "    }\n",
    "]\n",
    "\n",
    "class QuizGame:\n",
    "    def __init__(self, root):\n",
    "        self.root = root\n",
    "        self.root.title(\"Quiz Game\")\n",
    "        self.score = 0\n",
    "        self.current_question = 0\n",
    "\n",
    "        self.question_label = tk.Label(root, text=\"\", wraplength=400, justify=\"center\")\n",
    "        self.question_label.pack(pady=20)\n",
    "\n",
    "        self.option_buttons = []\n",
    "        for i in range(4):\n",
    "            btn = tk.Button(root, text=\"\", command=lambda i=i: self.check_answer(i))\n",
    "            btn.pack(fill=\"x\", padx=50, pady=5)\n",
    "            self.option_buttons.append(btn)\n",
    "\n",
    "        self.answer_button = tk.Button(root, text=\"Answer\", command=self.show_answer)\n",
    "        self.answer_button.pack(pady=20)\n",
    "\n",
    "        self.load_question()\n",
    "\n",
    "    def load_question(self):\n",
    "        if self.current_question < len(questions):\n",
    "            question_data = questions[self.current_question]\n",
    "            self.question_label.config(text=question_data[\"question\"])\n",
    "            for i in range(4):\n",
    "                self.option_buttons[i].config(text=question_data[\"options\"][i])\n",
    "        else:\n",
    "            self.show_final_score()\n",
    "\n",
    "    def check_answer(self, selected_option):\n",
    "        question_data = questions[self.current_question]\n",
    "        if question_data[\"options\"][selected_option] == question_data[\"answer\"]:\n",
    "            self.score += 1\n",
    "\n",
    "    def show_answer(self):\n",
    "        question_data = questions[self.current_question]\n",
    "        messagebox.showinfo(\"Answer\", f\"The correct answer is: {question_data['answer']}\")\n",
    "        self.current_question += 1\n",
    "        self.load_question()\n",
    "\n",
    "    def show_final_score(self):\n",
    "        messagebox.showinfo(\"Quiz Completed\", f\"Your final score is: {self.score}/{len(questions)}\")\n",
    "        self.root.destroy()\n",
    "\n",
    "if __name__ == \"__main__\":\n",
    "    root = tk.Tk()\n",
    "    app = QuizGame(root)\n",
    "    root.mainloop()\n"
   ]
  },
  {
   "cell_type": "code",
   "execution_count": 5,
   "id": "a28a8d0f-02e9-433a-9baa-21a178652225",
   "metadata": {},
   "outputs": [],
   "source": []
  }
 ],
 "metadata": {
  "kernelspec": {
   "display_name": "Python [conda env:base] *",
   "language": "python",
   "name": "conda-base-py"
  },
  "language_info": {
   "codemirror_mode": {
    "name": "ipython",
    "version": 3
   },
   "file_extension": ".py",
   "mimetype": "text/x-python",
   "name": "python",
   "nbconvert_exporter": "python",
   "pygments_lexer": "ipython3",
   "version": "3.12.7"
  }
 },
 "nbformat": 4,
 "nbformat_minor": 5
}
